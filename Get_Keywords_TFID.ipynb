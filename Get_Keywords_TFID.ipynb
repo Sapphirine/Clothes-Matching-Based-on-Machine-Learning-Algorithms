{
 "cells": [
  {
   "cell_type": "markdown",
   "metadata": {},
   "source": [
    "# Key Words Extraction"
   ]
  },
  {
   "cell_type": "code",
   "execution_count": 4,
   "metadata": {
    "collapsed": true
   },
   "outputs": [],
   "source": [
    "from pyspark.ml.feature import HashingTF, IDF, Tokenizer\n",
    "\n",
    "#choose TF-ID to extract features from key words\n",
    "#we create a table of items_keywords\n",
    "\n",
    "sentencedata = spark.createDataFrame(\"items_keywords\")\n",
    "token = Tokenizer(inputCol=\"sentence\", outputCol=\"keywords\")\n",
    "wordsdata = token.transform(sentencedata)\n",
    "hashingTF = HashingTF(inputword=\"words\", outputfeature=\"rawFeatures\")\n",
    "featuredata = hashingTF.transform(wordsdata)\n",
    "IDF = IDF(inputCol=\"rawFeatures\", outputCol=\"features\")\n",
    "IDFModel = idf.fit(featurizedData)\n",
    "rescaledData = IDFModel.transform(featuredata)"
   ]
  },
  {
   "cell_type": "code",
   "execution_count": null,
   "metadata": {
    "collapsed": true
   },
   "outputs": [],
   "source": []
  }
 ],
 "metadata": {
  "kernelspec": {
   "display_name": "Python 2",
   "language": "python",
   "name": "python2"
  },
  "language_info": {
   "codemirror_mode": {
    "name": "ipython",
    "version": 2
   },
   "file_extension": ".py",
   "mimetype": "text/x-python",
   "name": "python",
   "nbconvert_exporter": "python",
   "pygments_lexer": "ipython2",
   "version": "2.7.13"
  }
 },
 "nbformat": 4,
 "nbformat_minor": 2
}
